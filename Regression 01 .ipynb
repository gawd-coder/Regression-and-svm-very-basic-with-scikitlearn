{
 "cells": [
  {
   "cell_type": "code",
   "execution_count": 1,
   "metadata": {},
   "outputs": [],
   "source": [
    "import pandas as pd\n",
    "import numpy as np\n",
    "import quandl\n",
    "import math\n",
    "from sklearn import preprocessing,svm\n",
    "from sklearn.linear_model import LinearRegression\n",
    "from sklearn.model_selection import train_test_split"
   ]
  },
  {
   "cell_type": "code",
   "execution_count": 2,
   "metadata": {},
   "outputs": [],
   "source": [
    "quandl.ApiConfig.api_key = 'n7vvb_1oFLHGyyuPtkEf'\n",
    "df = quandl.get('EURONEXT/ALKAL')"
   ]
  },
  {
   "cell_type": "code",
   "execution_count": 3,
   "metadata": {},
   "outputs": [
    {
     "data": {
      "text/html": [
       "<div>\n",
       "<style scoped>\n",
       "    .dataframe tbody tr th:only-of-type {\n",
       "        vertical-align: middle;\n",
       "    }\n",
       "\n",
       "    .dataframe tbody tr th {\n",
       "        vertical-align: top;\n",
       "    }\n",
       "\n",
       "    .dataframe thead th {\n",
       "        text-align: right;\n",
       "    }\n",
       "</style>\n",
       "<table border=\"1\" class=\"dataframe\">\n",
       "  <thead>\n",
       "    <tr style=\"text-align: right;\">\n",
       "      <th></th>\n",
       "      <th>Open</th>\n",
       "      <th>High</th>\n",
       "      <th>Low</th>\n",
       "      <th>Last</th>\n",
       "      <th>Volume</th>\n",
       "      <th>Turnover</th>\n",
       "    </tr>\n",
       "    <tr>\n",
       "      <th>Date</th>\n",
       "      <th></th>\n",
       "      <th></th>\n",
       "      <th></th>\n",
       "      <th></th>\n",
       "      <th></th>\n",
       "      <th></th>\n",
       "    </tr>\n",
       "  </thead>\n",
       "  <tbody>\n",
       "    <tr>\n",
       "      <td>2018-06-12</td>\n",
       "      <td>22.30</td>\n",
       "      <td>22.30</td>\n",
       "      <td>21.77</td>\n",
       "      <td>22.00</td>\n",
       "      <td>111296.0</td>\n",
       "      <td>2449674.590</td>\n",
       "    </tr>\n",
       "    <tr>\n",
       "      <td>2018-06-13</td>\n",
       "      <td>22.07</td>\n",
       "      <td>22.09</td>\n",
       "      <td>21.74</td>\n",
       "      <td>21.94</td>\n",
       "      <td>25536.0</td>\n",
       "      <td>559590.010</td>\n",
       "    </tr>\n",
       "    <tr>\n",
       "      <td>2018-06-14</td>\n",
       "      <td>21.97</td>\n",
       "      <td>21.99</td>\n",
       "      <td>21.70</td>\n",
       "      <td>21.99</td>\n",
       "      <td>11837.0</td>\n",
       "      <td>259484.380</td>\n",
       "    </tr>\n",
       "    <tr>\n",
       "      <td>2018-06-15</td>\n",
       "      <td>22.00</td>\n",
       "      <td>22.03</td>\n",
       "      <td>21.93</td>\n",
       "      <td>22.02</td>\n",
       "      <td>2217.0</td>\n",
       "      <td>48784.625</td>\n",
       "    </tr>\n",
       "    <tr>\n",
       "      <td>2018-06-18</td>\n",
       "      <td>22.00</td>\n",
       "      <td>22.12</td>\n",
       "      <td>21.90</td>\n",
       "      <td>22.10</td>\n",
       "      <td>6310.0</td>\n",
       "      <td>139109.930</td>\n",
       "    </tr>\n",
       "  </tbody>\n",
       "</table>\n",
       "</div>"
      ],
      "text/plain": [
       "             Open   High    Low   Last    Volume     Turnover\n",
       "Date                                                         \n",
       "2018-06-12  22.30  22.30  21.77  22.00  111296.0  2449674.590\n",
       "2018-06-13  22.07  22.09  21.74  21.94   25536.0   559590.010\n",
       "2018-06-14  21.97  21.99  21.70  21.99   11837.0   259484.380\n",
       "2018-06-15  22.00  22.03  21.93  22.02    2217.0    48784.625\n",
       "2018-06-18  22.00  22.12  21.90  22.10    6310.0   139109.930"
      ]
     },
     "execution_count": 3,
     "metadata": {},
     "output_type": "execute_result"
    }
   ],
   "source": [
    "df.head()"
   ]
  },
  {
   "cell_type": "code",
   "execution_count": 4,
   "metadata": {},
   "outputs": [],
   "source": [
    "df = df[['Open','High','Low','Last','Volume']]"
   ]
  },
  {
   "cell_type": "code",
   "execution_count": 5,
   "metadata": {},
   "outputs": [
    {
     "data": {
      "text/html": [
       "<div>\n",
       "<style scoped>\n",
       "    .dataframe tbody tr th:only-of-type {\n",
       "        vertical-align: middle;\n",
       "    }\n",
       "\n",
       "    .dataframe tbody tr th {\n",
       "        vertical-align: top;\n",
       "    }\n",
       "\n",
       "    .dataframe thead th {\n",
       "        text-align: right;\n",
       "    }\n",
       "</style>\n",
       "<table border=\"1\" class=\"dataframe\">\n",
       "  <thead>\n",
       "    <tr style=\"text-align: right;\">\n",
       "      <th></th>\n",
       "      <th>Open</th>\n",
       "      <th>High</th>\n",
       "      <th>Low</th>\n",
       "      <th>Last</th>\n",
       "      <th>Volume</th>\n",
       "    </tr>\n",
       "    <tr>\n",
       "      <th>Date</th>\n",
       "      <th></th>\n",
       "      <th></th>\n",
       "      <th></th>\n",
       "      <th></th>\n",
       "      <th></th>\n",
       "    </tr>\n",
       "  </thead>\n",
       "  <tbody>\n",
       "    <tr>\n",
       "      <td>2018-06-12</td>\n",
       "      <td>22.30</td>\n",
       "      <td>22.30</td>\n",
       "      <td>21.77</td>\n",
       "      <td>22.00</td>\n",
       "      <td>111296.0</td>\n",
       "    </tr>\n",
       "    <tr>\n",
       "      <td>2018-06-13</td>\n",
       "      <td>22.07</td>\n",
       "      <td>22.09</td>\n",
       "      <td>21.74</td>\n",
       "      <td>21.94</td>\n",
       "      <td>25536.0</td>\n",
       "    </tr>\n",
       "    <tr>\n",
       "      <td>2018-06-14</td>\n",
       "      <td>21.97</td>\n",
       "      <td>21.99</td>\n",
       "      <td>21.70</td>\n",
       "      <td>21.99</td>\n",
       "      <td>11837.0</td>\n",
       "    </tr>\n",
       "    <tr>\n",
       "      <td>2018-06-15</td>\n",
       "      <td>22.00</td>\n",
       "      <td>22.03</td>\n",
       "      <td>21.93</td>\n",
       "      <td>22.02</td>\n",
       "      <td>2217.0</td>\n",
       "    </tr>\n",
       "    <tr>\n",
       "      <td>2018-06-18</td>\n",
       "      <td>22.00</td>\n",
       "      <td>22.12</td>\n",
       "      <td>21.90</td>\n",
       "      <td>22.10</td>\n",
       "      <td>6310.0</td>\n",
       "    </tr>\n",
       "  </tbody>\n",
       "</table>\n",
       "</div>"
      ],
      "text/plain": [
       "             Open   High    Low   Last    Volume\n",
       "Date                                            \n",
       "2018-06-12  22.30  22.30  21.77  22.00  111296.0\n",
       "2018-06-13  22.07  22.09  21.74  21.94   25536.0\n",
       "2018-06-14  21.97  21.99  21.70  21.99   11837.0\n",
       "2018-06-15  22.00  22.03  21.93  22.02    2217.0\n",
       "2018-06-18  22.00  22.12  21.90  22.10    6310.0"
      ]
     },
     "execution_count": 5,
     "metadata": {},
     "output_type": "execute_result"
    }
   ],
   "source": [
    "df.head()"
   ]
  },
  {
   "cell_type": "code",
   "execution_count": 6,
   "metadata": {},
   "outputs": [],
   "source": [
    "df['hl'] = (df['High'] - df['Low'])/df['Low'] * 100"
   ]
  },
  {
   "cell_type": "code",
   "execution_count": 7,
   "metadata": {},
   "outputs": [],
   "source": [
    "df['ol'] = (df['Last'] - df['Open'])/df['Open'] * 100"
   ]
  },
  {
   "cell_type": "code",
   "execution_count": 8,
   "metadata": {},
   "outputs": [],
   "source": [
    "df = df[['Last','hl','ol','Volume']]"
   ]
  },
  {
   "cell_type": "code",
   "execution_count": 9,
   "metadata": {},
   "outputs": [
    {
     "data": {
      "text/html": [
       "<div>\n",
       "<style scoped>\n",
       "    .dataframe tbody tr th:only-of-type {\n",
       "        vertical-align: middle;\n",
       "    }\n",
       "\n",
       "    .dataframe tbody tr th {\n",
       "        vertical-align: top;\n",
       "    }\n",
       "\n",
       "    .dataframe thead th {\n",
       "        text-align: right;\n",
       "    }\n",
       "</style>\n",
       "<table border=\"1\" class=\"dataframe\">\n",
       "  <thead>\n",
       "    <tr style=\"text-align: right;\">\n",
       "      <th></th>\n",
       "      <th>Last</th>\n",
       "      <th>hl</th>\n",
       "      <th>ol</th>\n",
       "      <th>Volume</th>\n",
       "    </tr>\n",
       "    <tr>\n",
       "      <th>Date</th>\n",
       "      <th></th>\n",
       "      <th></th>\n",
       "      <th></th>\n",
       "      <th></th>\n",
       "    </tr>\n",
       "  </thead>\n",
       "  <tbody>\n",
       "    <tr>\n",
       "      <td>2018-06-12</td>\n",
       "      <td>22.00</td>\n",
       "      <td>2.434543</td>\n",
       "      <td>-1.345291</td>\n",
       "      <td>111296.0</td>\n",
       "    </tr>\n",
       "    <tr>\n",
       "      <td>2018-06-13</td>\n",
       "      <td>21.94</td>\n",
       "      <td>1.609936</td>\n",
       "      <td>-0.589035</td>\n",
       "      <td>25536.0</td>\n",
       "    </tr>\n",
       "    <tr>\n",
       "      <td>2018-06-14</td>\n",
       "      <td>21.99</td>\n",
       "      <td>1.336406</td>\n",
       "      <td>0.091033</td>\n",
       "      <td>11837.0</td>\n",
       "    </tr>\n",
       "    <tr>\n",
       "      <td>2018-06-15</td>\n",
       "      <td>22.02</td>\n",
       "      <td>0.455996</td>\n",
       "      <td>0.090909</td>\n",
       "      <td>2217.0</td>\n",
       "    </tr>\n",
       "    <tr>\n",
       "      <td>2018-06-18</td>\n",
       "      <td>22.10</td>\n",
       "      <td>1.004566</td>\n",
       "      <td>0.454545</td>\n",
       "      <td>6310.0</td>\n",
       "    </tr>\n",
       "  </tbody>\n",
       "</table>\n",
       "</div>"
      ],
      "text/plain": [
       "             Last        hl        ol    Volume\n",
       "Date                                           \n",
       "2018-06-12  22.00  2.434543 -1.345291  111296.0\n",
       "2018-06-13  21.94  1.609936 -0.589035   25536.0\n",
       "2018-06-14  21.99  1.336406  0.091033   11837.0\n",
       "2018-06-15  22.02  0.455996  0.090909    2217.0\n",
       "2018-06-18  22.10  1.004566  0.454545    6310.0"
      ]
     },
     "execution_count": 9,
     "metadata": {},
     "output_type": "execute_result"
    }
   ],
   "source": [
    "df.head()"
   ]
  },
  {
   "cell_type": "code",
   "execution_count": 10,
   "metadata": {},
   "outputs": [],
   "source": [
    "forecast_col = 'Last' "
   ]
  },
  {
   "cell_type": "code",
   "execution_count": 41,
   "metadata": {},
   "outputs": [],
   "source": [
    "df.isnull().values.any()\n",
    "df.dropna(inplace = True)"
   ]
  },
  {
   "cell_type": "code",
   "execution_count": 42,
   "metadata": {},
   "outputs": [
    {
     "data": {
      "text/plain": [
       "312"
      ]
     },
     "execution_count": 42,
     "metadata": {},
     "output_type": "execute_result"
    }
   ],
   "source": [
    "len(df)"
   ]
  },
  {
   "cell_type": "code",
   "execution_count": 57,
   "metadata": {},
   "outputs": [],
   "source": [
    "forecast_out = int(math.ceil(0.02*len(df)))"
   ]
  },
  {
   "cell_type": "code",
   "execution_count": 58,
   "metadata": {},
   "outputs": [],
   "source": [
    "df['Label'] = df[forecast_col].shift(-forecast_out)"
   ]
  },
  {
   "cell_type": "code",
   "execution_count": 59,
   "metadata": {},
   "outputs": [
    {
     "data": {
      "text/plain": [
       "Date\n",
       "2019-03-21    15.90\n",
       "2019-03-22    15.72\n",
       "2019-03-25    15.75\n",
       "2019-03-26    15.70\n",
       "2019-03-27    15.30\n",
       "2019-03-28    15.40\n",
       "2019-03-29    15.50\n",
       "2019-04-01    17.10\n",
       "2019-04-02    17.25\n",
       "2019-04-03    17.65\n",
       "2019-04-04    17.50\n",
       "2019-04-05    17.80\n",
       "2019-04-08    17.75\n",
       "2019-04-09    17.95\n",
       "2019-04-10    17.65\n",
       "2019-04-11    17.40\n",
       "2019-04-12    17.25\n",
       "2019-04-15    17.25\n",
       "2019-04-16    16.80\n",
       "2019-04-17    17.15\n",
       "2019-04-18    17.20\n",
       "2019-04-23    17.15\n",
       "2019-04-24    17.00\n",
       "2019-04-25    17.10\n",
       "2019-04-26    17.00\n",
       "2019-04-29    16.85\n",
       "2019-04-30    17.00\n",
       "2019-05-02    16.90\n",
       "2019-05-03    17.10\n",
       "2019-05-06    17.10\n",
       "2019-05-07    17.10\n",
       "2019-05-08    17.10\n",
       "2019-05-09    17.15\n",
       "2019-05-10    17.15\n",
       "2019-05-13    17.10\n",
       "2019-05-14    17.20\n",
       "2019-05-15    17.20\n",
       "2019-05-16    16.95\n",
       "2019-05-17    16.95\n",
       "2019-05-20    16.90\n",
       "2019-05-21    16.50\n",
       "2019-05-22    15.30\n",
       "2019-05-23    16.00\n",
       "2019-05-24    16.20\n",
       "2019-05-27    16.30\n",
       "2019-05-28      NaN\n",
       "2019-05-29      NaN\n",
       "2019-05-30      NaN\n",
       "2019-05-31      NaN\n",
       "2019-06-03      NaN\n",
       "Name: Label, dtype: float64"
      ]
     },
     "execution_count": 59,
     "metadata": {},
     "output_type": "execute_result"
    }
   ],
   "source": [
    "df['Label'].tail(50)"
   ]
  },
  {
   "cell_type": "code",
   "execution_count": 60,
   "metadata": {},
   "outputs": [],
   "source": [
    "df.dropna(inplace = True)"
   ]
  },
  {
   "cell_type": "code",
   "execution_count": 61,
   "metadata": {},
   "outputs": [
    {
     "data": {
      "text/plain": [
       "False"
      ]
     },
     "execution_count": 61,
     "metadata": {},
     "output_type": "execute_result"
    }
   ],
   "source": [
    "df['Label'].isnull().values.any()"
   ]
  },
  {
   "cell_type": "code",
   "execution_count": 62,
   "metadata": {},
   "outputs": [],
   "source": [
    "#features will be\n",
    "x = np.array(df.drop(['Label'], 1))\n",
    "y = np.array(df['Label'])"
   ]
  },
  {
   "cell_type": "code",
   "execution_count": 63,
   "metadata": {},
   "outputs": [],
   "source": [
    "x = preprocessing.scale(x)"
   ]
  },
  {
   "cell_type": "code",
   "execution_count": 64,
   "metadata": {},
   "outputs": [],
   "source": [
    "#to make sure that we have x only for where we had values for y\n",
    "#x = x[:-forecast_out +1]"
   ]
  },
  {
   "cell_type": "code",
   "execution_count": 65,
   "metadata": {},
   "outputs": [],
   "source": [
    "df.dropna(inplace = True)"
   ]
  },
  {
   "cell_type": "code",
   "execution_count": 66,
   "metadata": {},
   "outputs": [
    {
     "name": "stdout",
     "output_type": "stream",
     "text": [
      "244 244\n"
     ]
    }
   ],
   "source": [
    "print(len(x),len(y))"
   ]
  },
  {
   "cell_type": "code",
   "execution_count": 67,
   "metadata": {},
   "outputs": [],
   "source": [
    "x_train,x_test,y_train,y_test = train_test_split(x,y,test_size = 0.2)"
   ]
  },
  {
   "cell_type": "code",
   "execution_count": 68,
   "metadata": {},
   "outputs": [],
   "source": [
    "#clf = LinearRegression()"
   ]
  },
  {
   "cell_type": "code",
   "execution_count": 69,
   "metadata": {},
   "outputs": [
    {
     "data": {
      "text/plain": [
       "LinearRegression(copy_X=True, fit_intercept=True, n_jobs=None, normalize=False)"
      ]
     },
     "execution_count": 69,
     "metadata": {},
     "output_type": "execute_result"
    }
   ],
   "source": [
    "#clf.fit(x_train,y_train)"
   ]
  },
  {
   "cell_type": "code",
   "execution_count": 70,
   "metadata": {},
   "outputs": [
    {
     "data": {
      "text/plain": [
       "0.847945372637671"
      ]
     },
     "execution_count": 70,
     "metadata": {},
     "output_type": "execute_result"
    }
   ],
   "source": [
    "#clf.score(x_test,y_test)"
   ]
  },
  {
   "cell_type": "code",
   "execution_count": 71,
   "metadata": {},
   "outputs": [
    {
     "name": "stderr",
     "output_type": "stream",
     "text": [
      "/home/ammar/anaconda3/lib/python3.7/site-packages/sklearn/svm/base.py:193: FutureWarning: The default value of gamma will change from 'auto' to 'scale' in version 0.22 to account better for unscaled features. Set gamma explicitly to 'auto' or 'scale' to avoid this warning.\n",
      "  \"avoid this warning.\", FutureWarning)\n"
     ]
    },
    {
     "data": {
      "text/plain": [
       "0.7791864330761551"
      ]
     },
     "execution_count": 71,
     "metadata": {},
     "output_type": "execute_result"
    }
   ],
   "source": [
    "clf = svm.SVR()\n",
    "clf.fit(x_train,y_train)\n",
    "clf.score(x_test,y_test)"
   ]
  },
  {
   "cell_type": "code",
   "execution_count": null,
   "metadata": {},
   "outputs": [],
   "source": []
  }
 ],
 "metadata": {
  "kernelspec": {
   "display_name": "Python 3",
   "language": "python",
   "name": "python3"
  },
  "language_info": {
   "codemirror_mode": {
    "name": "ipython",
    "version": 3
   },
   "file_extension": ".py",
   "mimetype": "text/x-python",
   "name": "python",
   "nbconvert_exporter": "python",
   "pygments_lexer": "ipython3",
   "version": "3.7.4"
  }
 },
 "nbformat": 4,
 "nbformat_minor": 2
}
